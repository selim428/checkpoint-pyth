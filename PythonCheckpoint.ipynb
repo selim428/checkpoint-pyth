{
 "cells": [
  {
   "cell_type": "markdown",
   "id": "db57d895",
   "metadata": {},
   "source": [
    "Question 1\n",
    "\n",
    "Write a program that will find all numbers which are divisible by 7 but are not a multiple of 5, between 2000 and 3200 (both included). The numbers obtained should be printed in a list.\n",
    "\n",
    "Hint: Consider using the range(#begin, #end) method."
   ]
  },
  {
   "cell_type": "code",
   "execution_count": 9,
   "id": "c09421a6",
   "metadata": {},
   "outputs": [
    {
     "name": "stdout",
     "output_type": "stream",
     "text": [
      "[2002, 2009, 2016, 2023, 2037, 2044, 2051, 2058, 2072, 2079, 2086, 2093, 2107, 2114, 2121, 2128, 2142, 2149, 2156, 2163, 2177, 2184, 2191, 2198, 2212, 2219, 2226, 2233, 2247, 2254, 2261, 2268, 2282, 2289, 2296, 2303, 2317, 2324, 2331, 2338, 2352, 2359, 2366, 2373, 2387, 2394, 2401, 2408, 2422, 2429, 2436, 2443, 2457, 2464, 2471, 2478, 2492, 2499, 2506, 2513, 2527, 2534, 2541, 2548, 2562, 2569, 2576, 2583, 2597, 2604, 2611, 2618, 2632, 2639, 2646, 2653, 2667, 2674, 2681, 2688, 2702, 2709, 2716, 2723, 2737, 2744, 2751, 2758, 2772, 2779, 2786, 2793, 2807, 2814, 2821, 2828, 2842, 2849, 2856, 2863, 2877, 2884, 2891, 2898, 2912, 2919, 2926, 2933, 2947, 2954, 2961, 2968, 2982, 2989, 2996, 3003, 3017, 3024, 3031, 3038, 3052, 3059, 3066, 3073, 3087, 3094, 3101, 3108, 3122, 3129, 3136, 3143, 3157, 3164, 3171, 3178, 3192, 3199]\n"
     ]
    }
   ],
   "source": [
    "liste=[]\n",
    "for i in range(2000,3201):\n",
    "    if (i%7==0) and (i%5!=0):\n",
    "        liste.append(i)\n",
    "print(liste)\n",
    "    "
   ]
  },
  {
   "cell_type": "markdown",
   "id": "e548c1a3",
   "metadata": {},
   "source": [
    "Question 2 \n",
    "\n",
    "Write a program that can compute the factorial of a given number. (The factorial of n is the product of all positive integers less than or equal to n.) For example: For factorial(5)= 5 x 4 x 3 x 2 x 1 the result is 120 (i.e. factorial (0)=1)."
   ]
  },
  {
   "cell_type": "code",
   "execution_count": 9,
   "id": "42fac6ea",
   "metadata": {},
   "outputs": [
    {
     "name": "stdout",
     "output_type": "stream",
     "text": [
      "give me a number : 8\n",
      "factorial is :  40320\n"
     ]
    }
   ],
   "source": [
    "#fonction récurcive\n",
    "\n",
    "def factorial(num=0):\n",
    "    if (num==0):\n",
    "        return 1\n",
    "    else:\n",
    "        return (num * factorial(num-1))\n",
    "var=int(input(\"give me a number : \"))\n",
    "print(\"factorial is : \",factorial(var))"
   ]
  },
  {
   "cell_type": "markdown",
   "id": "9c6f7d3f",
   "metadata": {},
   "source": [
    "Question 3 \n",
    "\n",
    "With a given integer number n, write a program to generate a dictionary that contains (i, i*i) such that is an integral number between 1 and n (both included). Then, the program should print the dictionary. Suppose the following input is supplied to the program: 8 Then, the output should be: {1: 1, 2: 4, 3: 9, 4: 16, 5: 25, 6: 36, 7: 49, 8: 64}  "
   ]
  },
  {
   "cell_type": "code",
   "execution_count": 4,
   "id": "c6b19833",
   "metadata": {},
   "outputs": [
    {
     "name": "stdout",
     "output_type": "stream",
     "text": [
      "give me a number : 8\n",
      "{1: 1, 2: 4, 3: 9, 4: 16, 5: 25, 6: 36, 7: 49, 8: 64}\n"
     ]
    }
   ],
   "source": [
    "n=int(input(\"give me a number : \"))\n",
    "my_dict={}\n",
    "for i in range(1,n+1,1):\n",
    "    my_dict[i]=i*i\n",
    "print(my_dict)"
   ]
  },
  {
   "cell_type": "markdown",
   "id": "ba7736c6",
   "metadata": {},
   "source": [
    "Question 4 \n",
    "\n",
    "Given a non-empty string and an integral n, return a new string where the char at index n has been removed. The value of n will be a valid index of a char in the original string (i.e. n will be in the range 0..len(str)-1 inclusive). \n",
    "\n",
    "missing_char('kitten', 1) → 'ktten'    for example here we remove \"i\" which is located in the index 1\n",
    "\n",
    "missing_char('kitten', 0) → 'itten'   here we remove \"k\" which is in the index 0\n",
    "\n",
    "missing_char('kitten', 4) → 'kittn'   here we remove \"e\" which is in the index 4"
   ]
  },
  {
   "cell_type": "code",
   "execution_count": 13,
   "id": "30272bed",
   "metadata": {},
   "outputs": [
    {
     "name": "stdout",
     "output_type": "stream",
     "text": [
      "give me a non-empty string:    go my code  \n",
      "give me a number: 2\n",
      "Original string:    go my code  \n",
      "New string with char at index 2 removed: gomy code\n"
     ]
    }
   ],
   "source": [
    "\n",
    "def string_non_empty ():\n",
    "    while True :\n",
    "        ch = str(input(\"give me a non-empty string: \"))\n",
    "        if ch.strip():  # Check if the input string is not empty after removing leading/trailing whitespace\n",
    "            return ch\n",
    "        else:\n",
    "            print(\"Please enter a non-empty string.\")\n",
    "\n",
    "            \n",
    "def number_in_range(ch):\n",
    "    while True:\n",
    "        n = int(input(\"give me a number: \"))\n",
    "        if n in range(len(ch)):\n",
    "            return n\n",
    "        else:\n",
    "            print(\"Please enter a number in range\")\n",
    "            \n",
    "            \n",
    "def missing_char(ch, n):\n",
    "    ch=ch.strip()\n",
    "    return ch[:n] + ch[n+1:]\n",
    "\n",
    "\n",
    "ch=string_non_empty()\n",
    "n=number_in_range(ch)\n",
    "result=missing_char(ch,n)\n",
    "\n",
    "print(\"Original string:\", ch)\n",
    "print(\"New string with char at index {} removed:\".format(n), result)"
   ]
  },
  {
   "cell_type": "markdown",
   "id": "7dd61d69",
   "metadata": {},
   "source": [
    "Question 5 \n",
    "\n",
    "Write a NumPy program to convert a NumPy array into a Python list structure.\n",
    "\n",
    "Expected output: \n",
    "\n",
    "Original array elements: [[0 1] [2 3] [4 5]] \n",
    "\n",
    "Array to list: [[0, 1], [2, 3], [4, 5]] \n",
    " \n",
    "\n",
    "Hint: We can use the to_list() function to ensure the conversion."
   ]
  },
  {
   "cell_type": "code",
   "execution_count": 6,
   "id": "3f6e8f08",
   "metadata": {},
   "outputs": [
    {
     "name": "stdout",
     "output_type": "stream",
     "text": [
      "NumPy array: [[0 1]\n",
      " [2 3]\n",
      " [4 5]]\n",
      "Python list: [[0, 1], [2, 3], [4, 5]]\n"
     ]
    }
   ],
   "source": [
    "import numpy as np\n",
    "\n",
    "numpy_array = np.array([[0, 1], [2, 3], [4, 5]])\n",
    "\n",
    "python_list = numpy_array.tolist()\n",
    "\n",
    "print(\"NumPy array:\", numpy_array)\n",
    "print(\"Python list:\", python_list)"
   ]
  },
  {
   "cell_type": "markdown",
   "id": "7adbfd3c",
   "metadata": {},
   "source": [
    "Question 6\n",
    "\n",
    "Write a NumPy program to compute the covariance matrix of two given arrays. \n",
    "\n",
    "Original array1: [0 1 2] \n",
    "\n",
    "Original array2: [2 1 0] \n",
    "\n",
    "Covariance matrix of the said arrays: [[ 1. -1.] [-1. 1.]]\n",
    " \n",
    "\n",
    "Hint: We can use the np.cov() function to calculate the covariance between these two arrays"
   ]
  },
  {
   "cell_type": "code",
   "execution_count": 18,
   "id": "3261e8ce",
   "metadata": {},
   "outputs": [
    {
     "name": "stdout",
     "output_type": "stream",
     "text": [
      "Array 1: [1 2 3 4 5]\n",
      "Array 2: [5 4 3 2 1]\n",
      "Covariance Matrix:\n",
      " [[ 2.5 -2.5]\n",
      " [-2.5  2.5]]\n"
     ]
    }
   ],
   "source": [
    "import numpy as np\n",
    "\n",
    "array1 = np.array([1, 2, 3, 4, 5])\n",
    "array2 = np.array([5, 4, 3, 2, 1])\n",
    "\n",
    "covariance_matrix = np.cov(array1, array2)\n",
    "\n",
    "print(\"Array 1:\", array1)\n",
    "print(\"Array 2:\", array2)\n",
    "print(\"Covariance Matrix:\\n\", covariance_matrix)\n"
   ]
  },
  {
   "cell_type": "markdown",
   "id": "8c00628a",
   "metadata": {},
   "source": [
    "Question 7\n",
    "\n",
    "Question: Write a program that calculates and prints the value according to the given formula: Q= Square root of [(2 * C * D)/H] \n",
    "\n",
    "The following are the fixed values of C and H: C is 50. H is 30. \n",
    "\n",
    "D is the variable whose values should be input into your program in a comma-separated sequence. (That means D contains more than value)\n",
    "\n",
    "Example: Let's assume the following comma-separated input sequence is given to the program: 100,150,180 The output of the program should be 18,22,24 \n",
    "\n",
    "To further explain this, we will obtain a result for each value of D:  Q1= Square root of [(2 * C * 100)/H] =18, Q2= Square root of [(2 * C * 150)/H] = 22 and Q3 = Square root of [(2 * C * 180)/H]  = 24\n",
    "\n",
    "Hint: If the output received is in decimal form, it should be rounded off to its nearest value. For example, if the output received is 26.0, it should be printed as 26. In case of input data being supplied to the question, it should be assumed to be a console input. "
   ]
  },
  {
   "cell_type": "code",
   "execution_count": 19,
   "id": "a9951c8c",
   "metadata": {},
   "outputs": [
    {
     "name": "stdout",
     "output_type": "stream",
     "text": [
      "Enter comma-separated values of D: 100,520,500\n",
      "Output: 18,42,41\n"
     ]
    }
   ],
   "source": [
    "import math\n",
    "\n",
    "# Fixed values of C and H\n",
    "C = 50\n",
    "H = 30\n",
    "\n",
    "# Function to calculate and round the value according to the formula\n",
    "def calculate_q(D):\n",
    "    return int(round(math.sqrt((2 * C * D) / H)))\n",
    "\n",
    "# Input comma-separated sequence of d values\n",
    "input_sequence = input(\"Enter comma-separated values of D: \")\n",
    "D_values = [int(d) for d in input_sequence.split(\",\")]  #list of D values\n",
    "\n",
    "#for d in input_sequence.split(\",\"):\n",
    "#    D_values.append()=d\n",
    "\n",
    "# Calculate Q values and print the result\n",
    "Q_values = [calculate_q(D) for D in D_values]\n",
    "output = \",\".join(str(q) for q in Q_values)\n",
    "\n",
    "print(\"Output:\", output)\n"
   ]
  }
 ],
 "metadata": {
  "kernelspec": {
   "display_name": "Python 3 (ipykernel)",
   "language": "python",
   "name": "python3"
  },
  "language_info": {
   "codemirror_mode": {
    "name": "ipython",
    "version": 3
   },
   "file_extension": ".py",
   "mimetype": "text/x-python",
   "name": "python",
   "nbconvert_exporter": "python",
   "pygments_lexer": "ipython3",
   "version": "3.9.13"
  }
 },
 "nbformat": 4,
 "nbformat_minor": 5
}
